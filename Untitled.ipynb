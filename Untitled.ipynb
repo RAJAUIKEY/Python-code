{
 "cells": [
  {
   "cell_type": "markdown",
   "id": "4e758961-4ea2-485a-8424-521fcdc1e14b",
   "metadata": {},
   "source": [
    "#  **My Jupyter Notebook on IBM Watson Studio**"
   ]
  },
  {
   "cell_type": "markdown",
   "id": "c6ffaa3d-bef7-4864-b027-af1bce31faa7",
   "metadata": {},
   "source": [
    "## *Raja uikey*"
   ]
  },
  {
   "cell_type": "markdown",
   "id": "be99d880-a0c2-4741-8dfa-997fefa0b976",
   "metadata": {},
   "source": [
    "###  I am interested in data science because, I love to gain insights from data."
   ]
  },
  {
   "cell_type": "markdown",
   "id": "9795d320-b7d9-465c-9633-373d16a4dea3",
   "metadata": {},
   "source": [
    "#  **The following code tests the guess  number**"
   ]
  },
  {
   "cell_type": "code",
   "execution_count": 2,
   "id": "cb4ea858-263c-469f-ae58-c8c29a44a008",
   "metadata": {},
   "outputs": [
    {
     "data": {
      "text/plain": [
       "True"
      ]
     },
     "execution_count": 2,
     "metadata": {},
     "output_type": "execute_result"
    }
   ],
   "source": [
    "def guess (n):\n",
    "    return(n*(n+1))/2\n",
    "\n",
    "guess(100)==sum(range(101))"
   ]
  },
  {
   "cell_type": "code",
   "execution_count": null,
   "id": "145dc038-ab76-4fe9-945f-12065db23dec",
   "metadata": {},
   "outputs": [],
   "source": [
    "## *the following code test "
   ]
  },
  {
   "cell_type": "code",
   "execution_count": 5,
   "id": "ab28a2b0-c8ad-4a1b-a9f0-5e9c54da9828",
   "metadata": {},
   "outputs": [
    {
     "name": "stdin",
     "output_type": "stream",
     "text": [
      "enter the number : 3\n"
     ]
    },
    {
     "name": "stdout",
     "output_type": "stream",
     "text": [
      "odd number\n"
     ]
    }
   ],
   "source": [
    "n=int(input('enter the number :'))\n",
    "if (n%2)==0:\n",
    "      print(\"even number\")\n",
    "else:\n",
    "      print(\"odd number\")"
   ]
  },
  {
   "cell_type": "code",
   "execution_count": null,
   "id": "f4c99535-7a54-46be-bb2f-83bf12ad0270",
   "metadata": {},
   "outputs": [],
   "source": []
  }
 ],
 "metadata": {
  "kernelspec": {
   "display_name": "Python",
   "language": "python",
   "name": "conda-env-python-py"
  },
  "language_info": {
   "codemirror_mode": {
    "name": "ipython",
    "version": 3
   },
   "file_extension": ".py",
   "mimetype": "text/x-python",
   "name": "python",
   "nbconvert_exporter": "python",
   "pygments_lexer": "ipython3",
   "version": "3.7.12"
  }
 },
 "nbformat": 4,
 "nbformat_minor": 5
}
